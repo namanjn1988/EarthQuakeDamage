{
  "nbformat": 4,
  "nbformat_minor": 0,
  "metadata": {
    "colab": {
      "name": "Untitled2.ipynb",
      "version": "0.3.2",
      "provenance": [],
      "toc_visible": true,
      "include_colab_link": true
    },
    "kernelspec": {
      "name": "python3",
      "display_name": "Python 3"
    },
    "accelerator": "GPU"
  },
  "cells": [
    {
      "cell_type": "markdown",
      "metadata": {
        "id": "view-in-github",
        "colab_type": "text"
      },
      "source": [
        "<a href=\"https://colab.research.google.com/github/namanjn1988/EarthQuakeDamage/blob/master/EarthQuakePrediction.ipynb\" target=\"_parent\"><img src=\"https://colab.research.google.com/assets/colab-badge.svg\" alt=\"Open In Colab\"/></a>"
      ]
    },
    {
      "cell_type": "code",
      "metadata": {
        "id": "87SSfF1qkH8E",
        "colab_type": "code",
        "outputId": "d68b7982-cc06-4bcf-e685-8e55f6cbe31d",
        "colab": {
          "base_uri": "https://localhost:8080/",
          "height": 212
        }
      },
      "source": [
        "# Clone the entire repo.\n",
        "!git clone -l -s git://github.com/namanjn1988/EarthQuakeDamage cloned-repo\n",
        "%cd cloned-repo\n",
        "!ls"
      ],
      "execution_count": 1,
      "outputs": [
        {
          "output_type": "stream",
          "text": [
            "Cloning into 'cloned-repo'...\n",
            "warning: --local is ignored\n",
            "remote: Enumerating objects: 23, done.\u001b[K\n",
            "remote: Counting objects:   4% (1/23)   \u001b[K\rremote: Counting objects:   8% (2/23)   \u001b[K\rremote: Counting objects:  13% (3/23)   \u001b[K\rremote: Counting objects:  17% (4/23)   \u001b[K\rremote: Counting objects:  21% (5/23)   \u001b[K\rremote: Counting objects:  26% (6/23)   \u001b[K\rremote: Counting objects:  30% (7/23)   \u001b[K\rremote: Counting objects:  34% (8/23)   \u001b[K\rremote: Counting objects:  39% (9/23)   \u001b[K\rremote: Counting objects:  43% (10/23)   \u001b[K\rremote: Counting objects:  47% (11/23)   \u001b[K\rremote: Counting objects:  52% (12/23)   \u001b[K\rremote: Counting objects:  56% (13/23)   \u001b[K\rremote: Counting objects:  60% (14/23)   \u001b[K\rremote: Counting objects:  65% (15/23)   \u001b[K\rremote: Counting objects:  69% (16/23)   \u001b[K\rremote: Counting objects:  73% (17/23)   \u001b[K\rremote: Counting objects:  78% (18/23)   \u001b[K\rremote: Counting objects:  82% (19/23)   \u001b[K\rremote: Counting objects:  86% (20/23)   \u001b[K\rremote: Counting objects:  91% (21/23)   \u001b[K\rremote: Counting objects:  95% (22/23)   \u001b[K\rremote: Counting objects: 100% (23/23)   \u001b[K\rremote: Counting objects: 100% (23/23), done.\u001b[K\n",
            "remote: Compressing objects: 100% (21/21), done.\u001b[K\n",
            "remote: Total 23 (delta 9), reused 7 (delta 0), pack-reused 0\u001b[K\n",
            "Receiving objects: 100% (23/23), 6.65 MiB | 16.10 MiB/s, done.\n",
            "Resolving deltas: 100% (9/9), done.\n",
            "/content/cloned-repo\n",
            "EarthQuakePrediction.ipynb  test_values.csv   train_values.csv\n",
            "README.md\t\t    train_labels.csv\n"
          ],
          "name": "stdout"
        }
      ]
    },
    {
      "cell_type": "markdown",
      "metadata": {
        "id": "ccLesEgSDqcV",
        "colab_type": "text"
      },
      "source": [
        "\n",
        "\n"
      ]
    },
    {
      "cell_type": "code",
      "metadata": {
        "id": "6k0Q2hKYrjwd",
        "colab_type": "code",
        "colab": {}
      },
      "source": [
        "import pandas as pd\n",
        "import matplotlib.pyplot as plt\n",
        "import seaborn as sns\n",
        "import numpy as np\n",
        "from scipy.stats import norm\n",
        "from sklearn.preprocessing import RobustScaler\n",
        "from sklearn.metrics import accuracy_score,precision_score,recall_score,precision_recall_curve, f1_score, confusion_matrix"
      ],
      "execution_count": 0,
      "outputs": []
    },
    {
      "cell_type": "code",
      "metadata": {
        "id": "_h4TUsUS4ScG",
        "colab_type": "code",
        "colab": {}
      },
      "source": [
        "def draw_colormat(df, first_col ):\n",
        "    \n",
        "    corrmat = df.corr()\n",
        "    k = len(df.columns) #number of variables for heatmap\n",
        "    cols = corrmat.nlargest(k, first_col)[first_col].index\n",
        "    cm = np.corrcoef(dataset[cols].values.T)\n",
        "    sns.set(font_scale=1.75)\n",
        "    f, ax = plt.subplots(figsize=(k*1.5, k*1.5))\n",
        "    hm = sns.heatmap(cm, cbar=True, annot=True, square=True, fmt='1.2f', annot_kws={'size': 15}, yticklabels=cols.values, xticklabels=cols.values)\n",
        "    plt.show()"
      ],
      "execution_count": 0,
      "outputs": []
    },
    {
      "cell_type": "code",
      "metadata": {
        "id": "sR6zI1l-rk9_",
        "colab_type": "code",
        "colab": {}
      },
      "source": [
        "dataset = pd.merge(pd.read_csv('train_values.csv'),pd.read_csv('train_labels.csv'))"
      ],
      "execution_count": 0,
      "outputs": []
    },
    {
      "cell_type": "code",
      "metadata": {
        "id": "ES07GpMusNu6",
        "colab_type": "code",
        "outputId": "622ecebb-ffbb-466f-dcfe-cd82c16c92af",
        "colab": {
          "base_uri": "https://localhost:8080/",
          "height": 816
        }
      },
      "source": [
        "dataset.info()"
      ],
      "execution_count": 5,
      "outputs": [
        {
          "output_type": "stream",
          "text": [
            "<class 'pandas.core.frame.DataFrame'>\n",
            "Int64Index: 260601 entries, 0 to 260600\n",
            "Data columns (total 40 columns):\n",
            "building_id                               260601 non-null int64\n",
            "geo_level_1_id                            260601 non-null int64\n",
            "geo_level_2_id                            260601 non-null int64\n",
            "geo_level_3_id                            260601 non-null int64\n",
            "count_floors_pre_eq                       260601 non-null int64\n",
            "age                                       260601 non-null int64\n",
            "area_percentage                           260601 non-null int64\n",
            "height_percentage                         260601 non-null int64\n",
            "land_surface_condition                    260601 non-null object\n",
            "foundation_type                           260601 non-null object\n",
            "roof_type                                 260601 non-null object\n",
            "ground_floor_type                         260601 non-null object\n",
            "other_floor_type                          260601 non-null object\n",
            "position                                  260601 non-null object\n",
            "plan_configuration                        260601 non-null object\n",
            "has_superstructure_adobe_mud              260601 non-null int64\n",
            "has_superstructure_mud_mortar_stone       260601 non-null int64\n",
            "has_superstructure_stone_flag             260601 non-null int64\n",
            "has_superstructure_cement_mortar_stone    260601 non-null int64\n",
            "has_superstructure_mud_mortar_brick       260601 non-null int64\n",
            "has_superstructure_cement_mortar_brick    260601 non-null int64\n",
            "has_superstructure_timber                 260601 non-null int64\n",
            "has_superstructure_bamboo                 260601 non-null int64\n",
            "has_superstructure_rc_non_engineered      260601 non-null int64\n",
            "has_superstructure_rc_engineered          260601 non-null int64\n",
            "has_superstructure_other                  260601 non-null int64\n",
            "legal_ownership_status                    260601 non-null object\n",
            "count_families                            260601 non-null int64\n",
            "has_secondary_use                         260601 non-null int64\n",
            "has_secondary_use_agriculture             260601 non-null int64\n",
            "has_secondary_use_hotel                   260601 non-null int64\n",
            "has_secondary_use_rental                  260601 non-null int64\n",
            "has_secondary_use_institution             260601 non-null int64\n",
            "has_secondary_use_school                  260601 non-null int64\n",
            "has_secondary_use_industry                260601 non-null int64\n",
            "has_secondary_use_health_post             260601 non-null int64\n",
            "has_secondary_use_gov_office              260601 non-null int64\n",
            "has_secondary_use_use_police              260601 non-null int64\n",
            "has_secondary_use_other                   260601 non-null int64\n",
            "damage_grade                              260601 non-null int64\n",
            "dtypes: int64(32), object(8)\n",
            "memory usage: 81.5+ MB\n"
          ],
          "name": "stdout"
        }
      ]
    },
    {
      "cell_type": "code",
      "metadata": {
        "id": "LNSLj0Qlyy25",
        "colab_type": "code",
        "outputId": "5dc913bd-bb3b-43f7-963b-d10c2249d225",
        "colab": {
          "base_uri": "https://localhost:8080/",
          "height": 217
        }
      },
      "source": [
        "dataset.head()"
      ],
      "execution_count": 6,
      "outputs": [
        {
          "output_type": "execute_result",
          "data": {
            "text/html": [
              "<div>\n",
              "<style scoped>\n",
              "    .dataframe tbody tr th:only-of-type {\n",
              "        vertical-align: middle;\n",
              "    }\n",
              "\n",
              "    .dataframe tbody tr th {\n",
              "        vertical-align: top;\n",
              "    }\n",
              "\n",
              "    .dataframe thead th {\n",
              "        text-align: right;\n",
              "    }\n",
              "</style>\n",
              "<table border=\"1\" class=\"dataframe\">\n",
              "  <thead>\n",
              "    <tr style=\"text-align: right;\">\n",
              "      <th></th>\n",
              "      <th>building_id</th>\n",
              "      <th>geo_level_1_id</th>\n",
              "      <th>geo_level_2_id</th>\n",
              "      <th>geo_level_3_id</th>\n",
              "      <th>count_floors_pre_eq</th>\n",
              "      <th>age</th>\n",
              "      <th>area_percentage</th>\n",
              "      <th>height_percentage</th>\n",
              "      <th>land_surface_condition</th>\n",
              "      <th>foundation_type</th>\n",
              "      <th>roof_type</th>\n",
              "      <th>ground_floor_type</th>\n",
              "      <th>other_floor_type</th>\n",
              "      <th>position</th>\n",
              "      <th>plan_configuration</th>\n",
              "      <th>has_superstructure_adobe_mud</th>\n",
              "      <th>has_superstructure_mud_mortar_stone</th>\n",
              "      <th>has_superstructure_stone_flag</th>\n",
              "      <th>has_superstructure_cement_mortar_stone</th>\n",
              "      <th>has_superstructure_mud_mortar_brick</th>\n",
              "      <th>has_superstructure_cement_mortar_brick</th>\n",
              "      <th>has_superstructure_timber</th>\n",
              "      <th>has_superstructure_bamboo</th>\n",
              "      <th>has_superstructure_rc_non_engineered</th>\n",
              "      <th>has_superstructure_rc_engineered</th>\n",
              "      <th>has_superstructure_other</th>\n",
              "      <th>legal_ownership_status</th>\n",
              "      <th>count_families</th>\n",
              "      <th>has_secondary_use</th>\n",
              "      <th>has_secondary_use_agriculture</th>\n",
              "      <th>has_secondary_use_hotel</th>\n",
              "      <th>has_secondary_use_rental</th>\n",
              "      <th>has_secondary_use_institution</th>\n",
              "      <th>has_secondary_use_school</th>\n",
              "      <th>has_secondary_use_industry</th>\n",
              "      <th>has_secondary_use_health_post</th>\n",
              "      <th>has_secondary_use_gov_office</th>\n",
              "      <th>has_secondary_use_use_police</th>\n",
              "      <th>has_secondary_use_other</th>\n",
              "      <th>damage_grade</th>\n",
              "    </tr>\n",
              "  </thead>\n",
              "  <tbody>\n",
              "    <tr>\n",
              "      <th>0</th>\n",
              "      <td>802906</td>\n",
              "      <td>6</td>\n",
              "      <td>487</td>\n",
              "      <td>12198</td>\n",
              "      <td>2</td>\n",
              "      <td>30</td>\n",
              "      <td>6</td>\n",
              "      <td>5</td>\n",
              "      <td>t</td>\n",
              "      <td>r</td>\n",
              "      <td>n</td>\n",
              "      <td>f</td>\n",
              "      <td>q</td>\n",
              "      <td>t</td>\n",
              "      <td>d</td>\n",
              "      <td>1</td>\n",
              "      <td>1</td>\n",
              "      <td>0</td>\n",
              "      <td>0</td>\n",
              "      <td>0</td>\n",
              "      <td>0</td>\n",
              "      <td>0</td>\n",
              "      <td>0</td>\n",
              "      <td>0</td>\n",
              "      <td>0</td>\n",
              "      <td>0</td>\n",
              "      <td>v</td>\n",
              "      <td>1</td>\n",
              "      <td>0</td>\n",
              "      <td>0</td>\n",
              "      <td>0</td>\n",
              "      <td>0</td>\n",
              "      <td>0</td>\n",
              "      <td>0</td>\n",
              "      <td>0</td>\n",
              "      <td>0</td>\n",
              "      <td>0</td>\n",
              "      <td>0</td>\n",
              "      <td>0</td>\n",
              "      <td>3</td>\n",
              "    </tr>\n",
              "    <tr>\n",
              "      <th>1</th>\n",
              "      <td>28830</td>\n",
              "      <td>8</td>\n",
              "      <td>900</td>\n",
              "      <td>2812</td>\n",
              "      <td>2</td>\n",
              "      <td>10</td>\n",
              "      <td>8</td>\n",
              "      <td>7</td>\n",
              "      <td>o</td>\n",
              "      <td>r</td>\n",
              "      <td>n</td>\n",
              "      <td>x</td>\n",
              "      <td>q</td>\n",
              "      <td>s</td>\n",
              "      <td>d</td>\n",
              "      <td>0</td>\n",
              "      <td>1</td>\n",
              "      <td>0</td>\n",
              "      <td>0</td>\n",
              "      <td>0</td>\n",
              "      <td>0</td>\n",
              "      <td>0</td>\n",
              "      <td>0</td>\n",
              "      <td>0</td>\n",
              "      <td>0</td>\n",
              "      <td>0</td>\n",
              "      <td>v</td>\n",
              "      <td>1</td>\n",
              "      <td>0</td>\n",
              "      <td>0</td>\n",
              "      <td>0</td>\n",
              "      <td>0</td>\n",
              "      <td>0</td>\n",
              "      <td>0</td>\n",
              "      <td>0</td>\n",
              "      <td>0</td>\n",
              "      <td>0</td>\n",
              "      <td>0</td>\n",
              "      <td>0</td>\n",
              "      <td>2</td>\n",
              "    </tr>\n",
              "    <tr>\n",
              "      <th>2</th>\n",
              "      <td>94947</td>\n",
              "      <td>21</td>\n",
              "      <td>363</td>\n",
              "      <td>8973</td>\n",
              "      <td>2</td>\n",
              "      <td>10</td>\n",
              "      <td>5</td>\n",
              "      <td>5</td>\n",
              "      <td>t</td>\n",
              "      <td>r</td>\n",
              "      <td>n</td>\n",
              "      <td>f</td>\n",
              "      <td>x</td>\n",
              "      <td>t</td>\n",
              "      <td>d</td>\n",
              "      <td>0</td>\n",
              "      <td>1</td>\n",
              "      <td>0</td>\n",
              "      <td>0</td>\n",
              "      <td>0</td>\n",
              "      <td>0</td>\n",
              "      <td>0</td>\n",
              "      <td>0</td>\n",
              "      <td>0</td>\n",
              "      <td>0</td>\n",
              "      <td>0</td>\n",
              "      <td>v</td>\n",
              "      <td>1</td>\n",
              "      <td>0</td>\n",
              "      <td>0</td>\n",
              "      <td>0</td>\n",
              "      <td>0</td>\n",
              "      <td>0</td>\n",
              "      <td>0</td>\n",
              "      <td>0</td>\n",
              "      <td>0</td>\n",
              "      <td>0</td>\n",
              "      <td>0</td>\n",
              "      <td>0</td>\n",
              "      <td>3</td>\n",
              "    </tr>\n",
              "    <tr>\n",
              "      <th>3</th>\n",
              "      <td>590882</td>\n",
              "      <td>22</td>\n",
              "      <td>418</td>\n",
              "      <td>10694</td>\n",
              "      <td>2</td>\n",
              "      <td>10</td>\n",
              "      <td>6</td>\n",
              "      <td>5</td>\n",
              "      <td>t</td>\n",
              "      <td>r</td>\n",
              "      <td>n</td>\n",
              "      <td>f</td>\n",
              "      <td>x</td>\n",
              "      <td>s</td>\n",
              "      <td>d</td>\n",
              "      <td>0</td>\n",
              "      <td>1</td>\n",
              "      <td>0</td>\n",
              "      <td>0</td>\n",
              "      <td>0</td>\n",
              "      <td>0</td>\n",
              "      <td>1</td>\n",
              "      <td>1</td>\n",
              "      <td>0</td>\n",
              "      <td>0</td>\n",
              "      <td>0</td>\n",
              "      <td>v</td>\n",
              "      <td>1</td>\n",
              "      <td>0</td>\n",
              "      <td>0</td>\n",
              "      <td>0</td>\n",
              "      <td>0</td>\n",
              "      <td>0</td>\n",
              "      <td>0</td>\n",
              "      <td>0</td>\n",
              "      <td>0</td>\n",
              "      <td>0</td>\n",
              "      <td>0</td>\n",
              "      <td>0</td>\n",
              "      <td>2</td>\n",
              "    </tr>\n",
              "    <tr>\n",
              "      <th>4</th>\n",
              "      <td>201944</td>\n",
              "      <td>11</td>\n",
              "      <td>131</td>\n",
              "      <td>1488</td>\n",
              "      <td>3</td>\n",
              "      <td>30</td>\n",
              "      <td>8</td>\n",
              "      <td>9</td>\n",
              "      <td>t</td>\n",
              "      <td>r</td>\n",
              "      <td>n</td>\n",
              "      <td>f</td>\n",
              "      <td>x</td>\n",
              "      <td>s</td>\n",
              "      <td>d</td>\n",
              "      <td>1</td>\n",
              "      <td>0</td>\n",
              "      <td>0</td>\n",
              "      <td>0</td>\n",
              "      <td>0</td>\n",
              "      <td>0</td>\n",
              "      <td>0</td>\n",
              "      <td>0</td>\n",
              "      <td>0</td>\n",
              "      <td>0</td>\n",
              "      <td>0</td>\n",
              "      <td>v</td>\n",
              "      <td>1</td>\n",
              "      <td>0</td>\n",
              "      <td>0</td>\n",
              "      <td>0</td>\n",
              "      <td>0</td>\n",
              "      <td>0</td>\n",
              "      <td>0</td>\n",
              "      <td>0</td>\n",
              "      <td>0</td>\n",
              "      <td>0</td>\n",
              "      <td>0</td>\n",
              "      <td>0</td>\n",
              "      <td>3</td>\n",
              "    </tr>\n",
              "  </tbody>\n",
              "</table>\n",
              "</div>"
            ],
            "text/plain": [
              "   building_id  geo_level_1_id  ...  has_secondary_use_other  damage_grade\n",
              "0       802906               6  ...                        0             3\n",
              "1        28830               8  ...                        0             2\n",
              "2        94947              21  ...                        0             3\n",
              "3       590882              22  ...                        0             2\n",
              "4       201944              11  ...                        0             3\n",
              "\n",
              "[5 rows x 40 columns]"
            ]
          },
          "metadata": {
            "tags": []
          },
          "execution_count": 6
        }
      ]
    },
    {
      "cell_type": "code",
      "metadata": {
        "id": "RRhZOUhOzHxJ",
        "colab_type": "code",
        "colab": {}
      },
      "source": [
        "dataset['land_surface_condition_N'] = (dataset['land_surface_condition'] == 'n').astype('int')\n",
        "dataset['land_surface_condition_O'] = (dataset['land_surface_condition'] == 'o').astype('int')\n",
        "\n",
        "dataset['foundation_type_H'] = (dataset['foundation_type'] == 'h').astype('int')\n",
        "dataset['foundation_type_I'] = (dataset['foundation_type'] == 'i').astype('int')\n",
        "dataset['foundation_type_R'] = (dataset['foundation_type'] == 'r').astype('int')\n",
        "dataset['foundation_type_U'] = (dataset['foundation_type'] == 'u').astype('int')\n",
        "\n",
        "dataset['roof_type_N'] = (dataset['roof_type'] == 'n').astype('int')\n",
        "dataset['roof_type_Y'] = (dataset['roof_type'] == 'y').astype('int')\n",
        "\n",
        "dataset['ground_floor_type_F'] = (dataset['ground_floor_type'] == 'f').astype('int')\n",
        "dataset['ground_floor_type_M'] = (dataset['ground_floor_type'] == 'm').astype('int')\n",
        "dataset['ground_floor_type_V'] = (dataset['ground_floor_type'] == 'v').astype('int')\n",
        "dataset['ground_floor_type_X'] = (dataset['ground_floor_type'] == 'x').astype('int')\n",
        "\n",
        "dataset['other_floor_type_J'] = (dataset['other_floor_type'] == 'j').astype('int')\n",
        "dataset['other_floor_type_Q'] = (dataset['other_floor_type'] == 'q').astype('int')\n",
        "dataset['other_floor_type_S'] = (dataset['other_floor_type'] == 's').astype('int')\n",
        "\n",
        "dataset['position_J'] = (dataset['position'] == 'j').astype('int')\n",
        "dataset['position_O'] = (dataset['position'] == 'o').astype('int')\n",
        "dataset['position_S'] = (dataset['position'] == 's').astype('int')\n",
        "\n",
        "dataset['plan_configuration_A'] = (dataset['plan_configuration'] == 'a').astype('int')\n",
        "dataset['plan_configuration_C'] = (dataset['plan_configuration'] == 'c').astype('int')\n",
        "dataset['plan_configuration_D'] = (dataset['plan_configuration'] == 'd').astype('int')\n",
        "dataset['plan_configuration_f'] = (dataset['plan_configuration'] == 'f').astype('int')\n",
        "dataset['plan_configuration_M'] = (dataset['plan_configuration'] == 'm').astype('int')\n",
        "dataset['plan_configuration_N'] = (dataset['plan_configuration'] == 'n').astype('int')\n",
        "dataset['plan_configuration_O'] = (dataset['plan_configuration'] == 'o').astype('int')\n",
        "dataset['plan_configuration_Q'] = (dataset['plan_configuration'] == 'q').astype('int')\n",
        "dataset['plan_configuration_S'] = (dataset['plan_configuration'] == 's').astype('int')\n",
        "\n",
        "dataset['legal_ownership_status_A'] = (dataset['legal_ownership_status'] == 'a').astype('int')\n",
        "dataset['legal_ownership_status_R'] = (dataset['legal_ownership_status'] == 'r').astype('int')\n",
        "dataset['legal_ownership_status_V'] = (dataset['legal_ownership_status'] == 'v').astype('int')\n",
        "\n"
      ],
      "execution_count": 0,
      "outputs": []
    },
    {
      "cell_type": "code",
      "metadata": {
        "id": "bCfSpfpC3CkW",
        "colab_type": "code",
        "colab": {}
      },
      "source": [
        "\n",
        "dataset.insert(1,\"geo_id\",dataset['geo_level_1_id'].astype(str) + dataset['geo_level_2_id'].astype(str).apply(lambda x: x.zfill(4)) + dataset['geo_level_3_id'].astype(str).apply(lambda x: x.zfill(5)))\n",
        "\n",
        "dataset['geo_id'] = dataset['geo_id'].astype('int64')\n"
      ],
      "execution_count": 0,
      "outputs": []
    },
    {
      "cell_type": "code",
      "metadata": {
        "id": "QuP-zqHIzvvK",
        "colab_type": "code",
        "colab": {}
      },
      "source": [
        "dataset.drop('land_surface_condition', axis=1, inplace=True)\n",
        "dataset.drop('foundation_type', axis=1, inplace=True)\n",
        "dataset.drop('roof_type', axis=1, inplace=True)\n",
        "dataset.drop('ground_floor_type', axis=1, inplace=True)\n",
        "dataset.drop('other_floor_type', axis=1, inplace=True)\n",
        "dataset.drop('position', axis=1, inplace=True)\n",
        "dataset.drop('plan_configuration', axis=1, inplace=True)\n",
        "dataset.drop('legal_ownership_status', axis=1, inplace=True)\n",
        "#dataset.drop('geo_level_1_id', axis=1, inplace=True)\n",
        "#dataset.drop('geo_level_2_id', axis=1, inplace=True)\n",
        "#dataset.drop('geo_level_3_id', axis=1, inplace=True)"
      ],
      "execution_count": 0,
      "outputs": []
    },
    {
      "cell_type": "code",
      "metadata": {
        "id": "mvKEyRGh3Wjo",
        "colab_type": "code",
        "outputId": "576ab732-ef52-4f1f-bcdf-1c8584f72f78",
        "colab": {
          "base_uri": "https://localhost:8080/",
          "height": 217
        }
      },
      "source": [
        "dataset.head()"
      ],
      "execution_count": 10,
      "outputs": [
        {
          "output_type": "execute_result",
          "data": {
            "text/html": [
              "<div>\n",
              "<style scoped>\n",
              "    .dataframe tbody tr th:only-of-type {\n",
              "        vertical-align: middle;\n",
              "    }\n",
              "\n",
              "    .dataframe tbody tr th {\n",
              "        vertical-align: top;\n",
              "    }\n",
              "\n",
              "    .dataframe thead th {\n",
              "        text-align: right;\n",
              "    }\n",
              "</style>\n",
              "<table border=\"1\" class=\"dataframe\">\n",
              "  <thead>\n",
              "    <tr style=\"text-align: right;\">\n",
              "      <th></th>\n",
              "      <th>building_id</th>\n",
              "      <th>geo_id</th>\n",
              "      <th>geo_level_1_id</th>\n",
              "      <th>geo_level_2_id</th>\n",
              "      <th>geo_level_3_id</th>\n",
              "      <th>count_floors_pre_eq</th>\n",
              "      <th>age</th>\n",
              "      <th>area_percentage</th>\n",
              "      <th>height_percentage</th>\n",
              "      <th>has_superstructure_adobe_mud</th>\n",
              "      <th>has_superstructure_mud_mortar_stone</th>\n",
              "      <th>has_superstructure_stone_flag</th>\n",
              "      <th>has_superstructure_cement_mortar_stone</th>\n",
              "      <th>has_superstructure_mud_mortar_brick</th>\n",
              "      <th>has_superstructure_cement_mortar_brick</th>\n",
              "      <th>has_superstructure_timber</th>\n",
              "      <th>has_superstructure_bamboo</th>\n",
              "      <th>has_superstructure_rc_non_engineered</th>\n",
              "      <th>has_superstructure_rc_engineered</th>\n",
              "      <th>has_superstructure_other</th>\n",
              "      <th>count_families</th>\n",
              "      <th>has_secondary_use</th>\n",
              "      <th>has_secondary_use_agriculture</th>\n",
              "      <th>has_secondary_use_hotel</th>\n",
              "      <th>has_secondary_use_rental</th>\n",
              "      <th>has_secondary_use_institution</th>\n",
              "      <th>has_secondary_use_school</th>\n",
              "      <th>has_secondary_use_industry</th>\n",
              "      <th>has_secondary_use_health_post</th>\n",
              "      <th>has_secondary_use_gov_office</th>\n",
              "      <th>has_secondary_use_use_police</th>\n",
              "      <th>has_secondary_use_other</th>\n",
              "      <th>damage_grade</th>\n",
              "      <th>land_surface_condition_N</th>\n",
              "      <th>land_surface_condition_O</th>\n",
              "      <th>foundation_type_H</th>\n",
              "      <th>foundation_type_I</th>\n",
              "      <th>foundation_type_R</th>\n",
              "      <th>foundation_type_U</th>\n",
              "      <th>roof_type_N</th>\n",
              "      <th>roof_type_Y</th>\n",
              "      <th>ground_floor_type_F</th>\n",
              "      <th>ground_floor_type_M</th>\n",
              "      <th>ground_floor_type_V</th>\n",
              "      <th>ground_floor_type_X</th>\n",
              "      <th>other_floor_type_J</th>\n",
              "      <th>other_floor_type_Q</th>\n",
              "      <th>other_floor_type_S</th>\n",
              "      <th>position_J</th>\n",
              "      <th>position_O</th>\n",
              "      <th>position_S</th>\n",
              "      <th>plan_configuration_A</th>\n",
              "      <th>plan_configuration_C</th>\n",
              "      <th>plan_configuration_D</th>\n",
              "      <th>plan_configuration_f</th>\n",
              "      <th>plan_configuration_M</th>\n",
              "      <th>plan_configuration_N</th>\n",
              "      <th>plan_configuration_O</th>\n",
              "      <th>plan_configuration_Q</th>\n",
              "      <th>plan_configuration_S</th>\n",
              "      <th>legal_ownership_status_A</th>\n",
              "      <th>legal_ownership_status_R</th>\n",
              "      <th>legal_ownership_status_V</th>\n",
              "    </tr>\n",
              "  </thead>\n",
              "  <tbody>\n",
              "    <tr>\n",
              "      <th>0</th>\n",
              "      <td>802906</td>\n",
              "      <td>6048712198</td>\n",
              "      <td>6</td>\n",
              "      <td>487</td>\n",
              "      <td>12198</td>\n",
              "      <td>2</td>\n",
              "      <td>30</td>\n",
              "      <td>6</td>\n",
              "      <td>5</td>\n",
              "      <td>1</td>\n",
              "      <td>1</td>\n",
              "      <td>0</td>\n",
              "      <td>0</td>\n",
              "      <td>0</td>\n",
              "      <td>0</td>\n",
              "      <td>0</td>\n",
              "      <td>0</td>\n",
              "      <td>0</td>\n",
              "      <td>0</td>\n",
              "      <td>0</td>\n",
              "      <td>1</td>\n",
              "      <td>0</td>\n",
              "      <td>0</td>\n",
              "      <td>0</td>\n",
              "      <td>0</td>\n",
              "      <td>0</td>\n",
              "      <td>0</td>\n",
              "      <td>0</td>\n",
              "      <td>0</td>\n",
              "      <td>0</td>\n",
              "      <td>0</td>\n",
              "      <td>0</td>\n",
              "      <td>3</td>\n",
              "      <td>0</td>\n",
              "      <td>0</td>\n",
              "      <td>0</td>\n",
              "      <td>0</td>\n",
              "      <td>1</td>\n",
              "      <td>0</td>\n",
              "      <td>1</td>\n",
              "      <td>0</td>\n",
              "      <td>1</td>\n",
              "      <td>0</td>\n",
              "      <td>0</td>\n",
              "      <td>0</td>\n",
              "      <td>0</td>\n",
              "      <td>1</td>\n",
              "      <td>0</td>\n",
              "      <td>0</td>\n",
              "      <td>0</td>\n",
              "      <td>0</td>\n",
              "      <td>0</td>\n",
              "      <td>0</td>\n",
              "      <td>1</td>\n",
              "      <td>0</td>\n",
              "      <td>0</td>\n",
              "      <td>0</td>\n",
              "      <td>0</td>\n",
              "      <td>0</td>\n",
              "      <td>0</td>\n",
              "      <td>0</td>\n",
              "      <td>0</td>\n",
              "      <td>1</td>\n",
              "    </tr>\n",
              "    <tr>\n",
              "      <th>1</th>\n",
              "      <td>28830</td>\n",
              "      <td>8090002812</td>\n",
              "      <td>8</td>\n",
              "      <td>900</td>\n",
              "      <td>2812</td>\n",
              "      <td>2</td>\n",
              "      <td>10</td>\n",
              "      <td>8</td>\n",
              "      <td>7</td>\n",
              "      <td>0</td>\n",
              "      <td>1</td>\n",
              "      <td>0</td>\n",
              "      <td>0</td>\n",
              "      <td>0</td>\n",
              "      <td>0</td>\n",
              "      <td>0</td>\n",
              "      <td>0</td>\n",
              "      <td>0</td>\n",
              "      <td>0</td>\n",
              "      <td>0</td>\n",
              "      <td>1</td>\n",
              "      <td>0</td>\n",
              "      <td>0</td>\n",
              "      <td>0</td>\n",
              "      <td>0</td>\n",
              "      <td>0</td>\n",
              "      <td>0</td>\n",
              "      <td>0</td>\n",
              "      <td>0</td>\n",
              "      <td>0</td>\n",
              "      <td>0</td>\n",
              "      <td>0</td>\n",
              "      <td>2</td>\n",
              "      <td>0</td>\n",
              "      <td>1</td>\n",
              "      <td>0</td>\n",
              "      <td>0</td>\n",
              "      <td>1</td>\n",
              "      <td>0</td>\n",
              "      <td>1</td>\n",
              "      <td>0</td>\n",
              "      <td>0</td>\n",
              "      <td>0</td>\n",
              "      <td>0</td>\n",
              "      <td>1</td>\n",
              "      <td>0</td>\n",
              "      <td>1</td>\n",
              "      <td>0</td>\n",
              "      <td>0</td>\n",
              "      <td>0</td>\n",
              "      <td>1</td>\n",
              "      <td>0</td>\n",
              "      <td>0</td>\n",
              "      <td>1</td>\n",
              "      <td>0</td>\n",
              "      <td>0</td>\n",
              "      <td>0</td>\n",
              "      <td>0</td>\n",
              "      <td>0</td>\n",
              "      <td>0</td>\n",
              "      <td>0</td>\n",
              "      <td>0</td>\n",
              "      <td>1</td>\n",
              "    </tr>\n",
              "    <tr>\n",
              "      <th>2</th>\n",
              "      <td>94947</td>\n",
              "      <td>21036308973</td>\n",
              "      <td>21</td>\n",
              "      <td>363</td>\n",
              "      <td>8973</td>\n",
              "      <td>2</td>\n",
              "      <td>10</td>\n",
              "      <td>5</td>\n",
              "      <td>5</td>\n",
              "      <td>0</td>\n",
              "      <td>1</td>\n",
              "      <td>0</td>\n",
              "      <td>0</td>\n",
              "      <td>0</td>\n",
              "      <td>0</td>\n",
              "      <td>0</td>\n",
              "      <td>0</td>\n",
              "      <td>0</td>\n",
              "      <td>0</td>\n",
              "      <td>0</td>\n",
              "      <td>1</td>\n",
              "      <td>0</td>\n",
              "      <td>0</td>\n",
              "      <td>0</td>\n",
              "      <td>0</td>\n",
              "      <td>0</td>\n",
              "      <td>0</td>\n",
              "      <td>0</td>\n",
              "      <td>0</td>\n",
              "      <td>0</td>\n",
              "      <td>0</td>\n",
              "      <td>0</td>\n",
              "      <td>3</td>\n",
              "      <td>0</td>\n",
              "      <td>0</td>\n",
              "      <td>0</td>\n",
              "      <td>0</td>\n",
              "      <td>1</td>\n",
              "      <td>0</td>\n",
              "      <td>1</td>\n",
              "      <td>0</td>\n",
              "      <td>1</td>\n",
              "      <td>0</td>\n",
              "      <td>0</td>\n",
              "      <td>0</td>\n",
              "      <td>0</td>\n",
              "      <td>0</td>\n",
              "      <td>0</td>\n",
              "      <td>0</td>\n",
              "      <td>0</td>\n",
              "      <td>0</td>\n",
              "      <td>0</td>\n",
              "      <td>0</td>\n",
              "      <td>1</td>\n",
              "      <td>0</td>\n",
              "      <td>0</td>\n",
              "      <td>0</td>\n",
              "      <td>0</td>\n",
              "      <td>0</td>\n",
              "      <td>0</td>\n",
              "      <td>0</td>\n",
              "      <td>0</td>\n",
              "      <td>1</td>\n",
              "    </tr>\n",
              "    <tr>\n",
              "      <th>3</th>\n",
              "      <td>590882</td>\n",
              "      <td>22041810694</td>\n",
              "      <td>22</td>\n",
              "      <td>418</td>\n",
              "      <td>10694</td>\n",
              "      <td>2</td>\n",
              "      <td>10</td>\n",
              "      <td>6</td>\n",
              "      <td>5</td>\n",
              "      <td>0</td>\n",
              "      <td>1</td>\n",
              "      <td>0</td>\n",
              "      <td>0</td>\n",
              "      <td>0</td>\n",
              "      <td>0</td>\n",
              "      <td>1</td>\n",
              "      <td>1</td>\n",
              "      <td>0</td>\n",
              "      <td>0</td>\n",
              "      <td>0</td>\n",
              "      <td>1</td>\n",
              "      <td>0</td>\n",
              "      <td>0</td>\n",
              "      <td>0</td>\n",
              "      <td>0</td>\n",
              "      <td>0</td>\n",
              "      <td>0</td>\n",
              "      <td>0</td>\n",
              "      <td>0</td>\n",
              "      <td>0</td>\n",
              "      <td>0</td>\n",
              "      <td>0</td>\n",
              "      <td>2</td>\n",
              "      <td>0</td>\n",
              "      <td>0</td>\n",
              "      <td>0</td>\n",
              "      <td>0</td>\n",
              "      <td>1</td>\n",
              "      <td>0</td>\n",
              "      <td>1</td>\n",
              "      <td>0</td>\n",
              "      <td>1</td>\n",
              "      <td>0</td>\n",
              "      <td>0</td>\n",
              "      <td>0</td>\n",
              "      <td>0</td>\n",
              "      <td>0</td>\n",
              "      <td>0</td>\n",
              "      <td>0</td>\n",
              "      <td>0</td>\n",
              "      <td>1</td>\n",
              "      <td>0</td>\n",
              "      <td>0</td>\n",
              "      <td>1</td>\n",
              "      <td>0</td>\n",
              "      <td>0</td>\n",
              "      <td>0</td>\n",
              "      <td>0</td>\n",
              "      <td>0</td>\n",
              "      <td>0</td>\n",
              "      <td>0</td>\n",
              "      <td>0</td>\n",
              "      <td>1</td>\n",
              "    </tr>\n",
              "    <tr>\n",
              "      <th>4</th>\n",
              "      <td>201944</td>\n",
              "      <td>11013101488</td>\n",
              "      <td>11</td>\n",
              "      <td>131</td>\n",
              "      <td>1488</td>\n",
              "      <td>3</td>\n",
              "      <td>30</td>\n",
              "      <td>8</td>\n",
              "      <td>9</td>\n",
              "      <td>1</td>\n",
              "      <td>0</td>\n",
              "      <td>0</td>\n",
              "      <td>0</td>\n",
              "      <td>0</td>\n",
              "      <td>0</td>\n",
              "      <td>0</td>\n",
              "      <td>0</td>\n",
              "      <td>0</td>\n",
              "      <td>0</td>\n",
              "      <td>0</td>\n",
              "      <td>1</td>\n",
              "      <td>0</td>\n",
              "      <td>0</td>\n",
              "      <td>0</td>\n",
              "      <td>0</td>\n",
              "      <td>0</td>\n",
              "      <td>0</td>\n",
              "      <td>0</td>\n",
              "      <td>0</td>\n",
              "      <td>0</td>\n",
              "      <td>0</td>\n",
              "      <td>0</td>\n",
              "      <td>3</td>\n",
              "      <td>0</td>\n",
              "      <td>0</td>\n",
              "      <td>0</td>\n",
              "      <td>0</td>\n",
              "      <td>1</td>\n",
              "      <td>0</td>\n",
              "      <td>1</td>\n",
              "      <td>0</td>\n",
              "      <td>1</td>\n",
              "      <td>0</td>\n",
              "      <td>0</td>\n",
              "      <td>0</td>\n",
              "      <td>0</td>\n",
              "      <td>0</td>\n",
              "      <td>0</td>\n",
              "      <td>0</td>\n",
              "      <td>0</td>\n",
              "      <td>1</td>\n",
              "      <td>0</td>\n",
              "      <td>0</td>\n",
              "      <td>1</td>\n",
              "      <td>0</td>\n",
              "      <td>0</td>\n",
              "      <td>0</td>\n",
              "      <td>0</td>\n",
              "      <td>0</td>\n",
              "      <td>0</td>\n",
              "      <td>0</td>\n",
              "      <td>0</td>\n",
              "      <td>1</td>\n",
              "    </tr>\n",
              "  </tbody>\n",
              "</table>\n",
              "</div>"
            ],
            "text/plain": [
              "   building_id       geo_id  ...  legal_ownership_status_R  legal_ownership_status_V\n",
              "0       802906   6048712198  ...                         0                         1\n",
              "1        28830   8090002812  ...                         0                         1\n",
              "2        94947  21036308973  ...                         0                         1\n",
              "3       590882  22041810694  ...                         0                         1\n",
              "4       201944  11013101488  ...                         0                         1\n",
              "\n",
              "[5 rows x 63 columns]"
            ]
          },
          "metadata": {
            "tags": []
          },
          "execution_count": 10
        }
      ]
    },
    {
      "cell_type": "code",
      "metadata": {
        "id": "ot0rT9XrxfM5",
        "colab_type": "code",
        "outputId": "5f2bdf8a-97f4-4734-b146-7a208a3eb9e9",
        "colab": {
          "base_uri": "https://localhost:8080/",
          "height": 522
        }
      },
      "source": [
        "ax = dataset['age'].value_counts().sort_index().plot(kind='bar', figsize=(14,8), title=\"Number of occurance\")\n",
        "ax.set_xlabel(\"age\")\n",
        "ax.set_ylabel(\"frequency\")\n",
        "plt.show()\n"
      ],
      "execution_count": 11,
      "outputs": [
        {
          "output_type": "display_data",
          "data": {
            "image/png": "[encoded data removed]",
            "text/plain": [
              "<Figure size 1008x576 with 1 Axes>"
            ]
          },
          "metadata": {
            "tags": []
          }
        }
      ]
    },
    {
      "cell_type": "code",
      "metadata": {
        "id": "1PbM7O3Q3p0n",
        "colab_type": "code",
        "colab": {}
      },
      "source": [
        "target_name = 'damage_grade'\n",
        "X = dataset.drop('damage_grade', axis=1)\n",
        "robust_scaler = RobustScaler()\n",
        "X = robust_scaler.fit_transform(X)\n",
        "y= dataset[target_name]"
      ],
      "execution_count": 0,
      "outputs": []
    },
    {
      "cell_type": "code",
      "metadata": {
        "id": "X-SgEcQYQVNR",
        "colab_type": "code",
        "colab": {}
      },
      "source": [
        "#draw_colormat(dataset, 'damage_grade' )"
      ],
      "execution_count": 0,
      "outputs": []
    },
    {
      "cell_type": "code",
      "metadata": {
        "id": "-LJfdbNi4FpZ",
        "colab_type": "code",
        "colab": {}
      },
      "source": [
        "from sklearn.model_selection import train_test_split\n",
        "X_train, X_test, y_train, y_test = train_test_split(X, y, test_size = 1/3, random_state = 0)"
      ],
      "execution_count": 0,
      "outputs": []
    },
    {
      "cell_type": "code",
      "metadata": {
        "id": "_USIJ79T9EsB",
        "colab_type": "code",
        "colab": {}
      },
      "source": [
        "def CMatric(CM, lables=['GRADE 1','GRADE 2','GRADE 3']):\n",
        "\tdf = pd.DataFrame(data=CM, index=lables, columns=lables)\n",
        "\tdf.index.name='TRUE'\n",
        "\tdf.columns.name='PREDICTION'\n",
        "\tdf.loc['Total'] = df.sum()\n",
        "\tdf['Total'] = df.sum(axis=1)\n",
        "\treturn df"
      ],
      "execution_count": 0,
      "outputs": []
    },
    {
      "cell_type": "code",
      "metadata": {
        "id": "8iB5X8lH9e3Y",
        "colab_type": "code",
        "colab": {}
      },
      "source": [
        "metrics = pd.DataFrame(index=['accuracy','precision','recall'], columns= ['NULL'])"
      ],
      "execution_count": 0,
      "outputs": []
    },
    {
      "cell_type": "code",
      "metadata": {
        "id": "XDSob0WeE0QI",
        "colab_type": "code",
        "colab": {}
      },
      "source": [
        "def update_metric(model,y_pred, y_test ):\n",
        "  \n",
        "  metrics[model]  = model     \n",
        "  metrics.loc['accuracy',model] = accuracy_score(y_pred=y_pred, y_true=y_test)\n",
        "  metrics.loc['precision',model] = precision_score(y_pred=y_pred, y_true=y_test,average='micro')\n",
        "  metrics.loc['recall',model] = recall_score(y_pred=y_pred, y_true=y_test, average='micro')\n",
        "\n",
        " "
      ],
      "execution_count": 0,
      "outputs": []
    },
    {
      "cell_type": "markdown",
      "metadata": {
        "id": "mtaymyjp7bLX",
        "colab_type": "text"
      },
      "source": [
        "# **1. Null Model**"
      ]
    },
    {
      "cell_type": "code",
      "metadata": {
        "id": "tyIGhbk5p1TY",
        "colab_type": "code",
        "outputId": "abb5a853-cffd-44b0-938a-6895cd5d2afc",
        "colab": {
          "base_uri": "https://localhost:8080/",
          "height": 105
        }
      },
      "source": [
        "y_train.groupby(y_train).count()\n",
        "\n",
        "\n"
      ],
      "execution_count": 18,
      "outputs": [
        {
          "output_type": "execute_result",
          "data": {
            "text/plain": [
              "damage_grade\n",
              "1    16810\n",
              "2    98853\n",
              "3    58071\n",
              "Name: damage_grade, dtype: int64"
            ]
          },
          "metadata": {
            "tags": []
          },
          "execution_count": 18
        }
      ]
    },
    {
      "cell_type": "code",
      "metadata": {
        "id": "3nAaI7ei8yQ4",
        "colab_type": "code",
        "outputId": "dc9c9bc2-ad42-42ef-8ead-5ca99a035849",
        "colab": {
          "base_uri": "https://localhost:8080/",
          "height": 197
        }
      },
      "source": [
        "# 2 came from above output as it is most frequent damage grade.\n",
        "y_pred = np.repeat(2,y_test.size) \n",
        "metrics.loc['accuracy','NULL'] = accuracy_score(y_pred=y_pred, y_true=y_test)\n",
        "metrics.loc['precision','NULL'] = precision_score(y_pred=y_pred, y_true=y_test,average='micro')\n",
        "metrics.loc['recall','NULL'] = recall_score(y_pred=y_pred, y_true=y_test, average='micro')\n",
        "\n",
        "CM = confusion_matrix(y_pred=y_pred, y_true=y_test)\n",
        "CMatric(CM)"
      ],
      "execution_count": 19,
      "outputs": [
        {
          "output_type": "execute_result",
          "data": {
            "text/html": [
              "<div>\n",
              "<style scoped>\n",
              "    .dataframe tbody tr th:only-of-type {\n",
              "        vertical-align: middle;\n",
              "    }\n",
              "\n",
              "    .dataframe tbody tr th {\n",
              "        vertical-align: top;\n",
              "    }\n",
              "\n",
              "    .dataframe thead th {\n",
              "        text-align: right;\n",
              "    }\n",
              "</style>\n",
              "<table border=\"1\" class=\"dataframe\">\n",
              "  <thead>\n",
              "    <tr style=\"text-align: right;\">\n",
              "      <th>PREDICTION</th>\n",
              "      <th>GRADE 1</th>\n",
              "      <th>GRADE 2</th>\n",
              "      <th>GRADE 3</th>\n",
              "      <th>Total</th>\n",
              "    </tr>\n",
              "    <tr>\n",
              "      <th>TRUE</th>\n",
              "      <th></th>\n",
              "      <th></th>\n",
              "      <th></th>\n",
              "      <th></th>\n",
              "    </tr>\n",
              "  </thead>\n",
              "  <tbody>\n",
              "    <tr>\n",
              "      <th>GRADE 1</th>\n",
              "      <td>0</td>\n",
              "      <td>8314</td>\n",
              "      <td>0</td>\n",
              "      <td>8314</td>\n",
              "    </tr>\n",
              "    <tr>\n",
              "      <th>GRADE 2</th>\n",
              "      <td>0</td>\n",
              "      <td>49406</td>\n",
              "      <td>0</td>\n",
              "      <td>49406</td>\n",
              "    </tr>\n",
              "    <tr>\n",
              "      <th>GRADE 3</th>\n",
              "      <td>0</td>\n",
              "      <td>29147</td>\n",
              "      <td>0</td>\n",
              "      <td>29147</td>\n",
              "    </tr>\n",
              "    <tr>\n",
              "      <th>Total</th>\n",
              "      <td>0</td>\n",
              "      <td>86867</td>\n",
              "      <td>0</td>\n",
              "      <td>86867</td>\n",
              "    </tr>\n",
              "  </tbody>\n",
              "</table>\n",
              "</div>"
            ],
            "text/plain": [
              "PREDICTION  GRADE 1  GRADE 2  GRADE 3  Total\n",
              "TRUE                                        \n",
              "GRADE 1           0     8314        0   8314\n",
              "GRADE 2           0    49406        0  49406\n",
              "GRADE 3           0    29147        0  29147\n",
              "Total             0    86867        0  86867"
            ]
          },
          "metadata": {
            "tags": []
          },
          "execution_count": 19
        }
      ]
    },
    {
      "cell_type": "code",
      "metadata": {
        "id": "eUgeUHIKVlv5",
        "colab_type": "code",
        "outputId": "8b88dfeb-a59f-46bd-c274-92b6b55e559d",
        "colab": {
          "base_uri": "https://localhost:8080/",
          "height": 34
        }
      },
      "source": [
        "recall_score(y_pred=y_pred, y_true=y_test, average='micro')"
      ],
      "execution_count": 20,
      "outputs": [
        {
          "output_type": "execute_result",
          "data": {
            "text/plain": [
              "0.5687545327915089"
            ]
          },
          "metadata": {
            "tags": []
          },
          "execution_count": 20
        }
      ]
    },
    {
      "cell_type": "markdown",
      "metadata": {
        "id": "cCFF6oh47pFx",
        "colab_type": "text"
      },
      "source": [
        "# 2. Random Forest Regression Model"
      ]
    },
    {
      "cell_type": "code",
      "metadata": {
        "id": "oYGonuO34n5p",
        "colab_type": "code",
        "colab": {}
      },
      "source": [
        "# Fitting Random Forest Regression to the dataset\n",
        "from sklearn.ensemble import RandomForestRegressor\n",
        "regressor = RandomForestRegressor(n_estimators = 10, random_state = 2)\n",
        "regressor.fit(X_train, y_train)\n",
        "\n",
        "# Predicting a new result\n",
        "y_pred = np.round(regressor.predict(X_test))"
      ],
      "execution_count": 0,
      "outputs": []
    },
    {
      "cell_type": "code",
      "metadata": {
        "id": "WcDelR91-hj-",
        "colab_type": "code",
        "colab": {}
      },
      "source": [
        "update_metric('RFRegressor', y_pred, y_test)"
      ],
      "execution_count": 0,
      "outputs": []
    },
    {
      "cell_type": "markdown",
      "metadata": {
        "id": "cJY2yZL0EcT5",
        "colab_type": "text"
      },
      "source": [
        "# 3. Random Forest Classification Model"
      ]
    },
    {
      "cell_type": "code",
      "metadata": {
        "id": "5ucF8OnICo9l",
        "colab_type": "code",
        "colab": {}
      },
      "source": [
        "# Fitting Random Forest Classification to the Training set\n",
        "from sklearn.ensemble import RandomForestClassifier\n",
        "classifier = RandomForestClassifier(n_estimators = 10, criterion = 'entropy', random_state = 0)\n",
        "classifier.fit(X_train, y_train)\n",
        "\n",
        "# Predicting the Test set results\n",
        "y_pred = classifier.predict(X_test)"
      ],
      "execution_count": 0,
      "outputs": []
    },
    {
      "cell_type": "code",
      "metadata": {
        "id": "YxCdh8BaiKd-",
        "colab_type": "code",
        "outputId": "a418eb4e-c1e1-4038-9220-aff5f7d7293c",
        "colab": {
          "base_uri": "https://localhost:8080/",
          "height": 197
        }
      },
      "source": [
        "CM = confusion_matrix(y_pred=y_pred, y_true=y_test)\n",
        "CMatric(CM)"
      ],
      "execution_count": 24,
      "outputs": [
        {
          "output_type": "execute_result",
          "data": {
            "text/html": [
              "<div>\n",
              "<style scoped>\n",
              "    .dataframe tbody tr th:only-of-type {\n",
              "        vertical-align: middle;\n",
              "    }\n",
              "\n",
              "    .dataframe tbody tr th {\n",
              "        vertical-align: top;\n",
              "    }\n",
              "\n",
              "    .dataframe thead th {\n",
              "        text-align: right;\n",
              "    }\n",
              "</style>\n",
              "<table border=\"1\" class=\"dataframe\">\n",
              "  <thead>\n",
              "    <tr style=\"text-align: right;\">\n",
              "      <th>PREDICTION</th>\n",
              "      <th>GRADE 1</th>\n",
              "      <th>GRADE 2</th>\n",
              "      <th>GRADE 3</th>\n",
              "      <th>Total</th>\n",
              "    </tr>\n",
              "    <tr>\n",
              "      <th>TRUE</th>\n",
              "      <th></th>\n",
              "      <th></th>\n",
              "      <th></th>\n",
              "      <th></th>\n",
              "    </tr>\n",
              "  </thead>\n",
              "  <tbody>\n",
              "    <tr>\n",
              "      <th>GRADE 1</th>\n",
              "      <td>4172</td>\n",
              "      <td>3939</td>\n",
              "      <td>203</td>\n",
              "      <td>8314</td>\n",
              "    </tr>\n",
              "    <tr>\n",
              "      <th>GRADE 2</th>\n",
              "      <td>2602</td>\n",
              "      <td>40665</td>\n",
              "      <td>6139</td>\n",
              "      <td>49406</td>\n",
              "    </tr>\n",
              "    <tr>\n",
              "      <th>GRADE 3</th>\n",
              "      <td>263</td>\n",
              "      <td>12845</td>\n",
              "      <td>16039</td>\n",
              "      <td>29147</td>\n",
              "    </tr>\n",
              "    <tr>\n",
              "      <th>Total</th>\n",
              "      <td>7037</td>\n",
              "      <td>57449</td>\n",
              "      <td>22381</td>\n",
              "      <td>86867</td>\n",
              "    </tr>\n",
              "  </tbody>\n",
              "</table>\n",
              "</div>"
            ],
            "text/plain": [
              "PREDICTION  GRADE 1  GRADE 2  GRADE 3  Total\n",
              "TRUE                                        \n",
              "GRADE 1        4172     3939      203   8314\n",
              "GRADE 2        2602    40665     6139  49406\n",
              "GRADE 3         263    12845    16039  29147\n",
              "Total          7037    57449    22381  86867"
            ]
          },
          "metadata": {
            "tags": []
          },
          "execution_count": 24
        }
      ]
    },
    {
      "cell_type": "code",
      "metadata": {
        "id": "2WQFRsyVCyOr",
        "colab_type": "code",
        "colab": {}
      },
      "source": [
        "update_metric('RF_Classifior', y_pred, y_test)"
      ],
      "execution_count": 0,
      "outputs": []
    },
    {
      "cell_type": "code",
      "metadata": {
        "id": "ZmeszQS2QCpa",
        "colab_type": "code",
        "outputId": "adcfea40-1a87-4071-d258-a02d61f01351",
        "colab": {
          "base_uri": "https://localhost:8080/",
          "height": 137
        }
      },
      "source": [
        "metrics"
      ],
      "execution_count": 26,
      "outputs": [
        {
          "output_type": "execute_result",
          "data": {
            "text/html": [
              "<div>\n",
              "<style scoped>\n",
              "    .dataframe tbody tr th:only-of-type {\n",
              "        vertical-align: middle;\n",
              "    }\n",
              "\n",
              "    .dataframe tbody tr th {\n",
              "        vertical-align: top;\n",
              "    }\n",
              "\n",
              "    .dataframe thead th {\n",
              "        text-align: right;\n",
              "    }\n",
              "</style>\n",
              "<table border=\"1\" class=\"dataframe\">\n",
              "  <thead>\n",
              "    <tr style=\"text-align: right;\">\n",
              "      <th></th>\n",
              "      <th>NULL</th>\n",
              "      <th>RFRegressor</th>\n",
              "      <th>RF_Classifior</th>\n",
              "    </tr>\n",
              "  </thead>\n",
              "  <tbody>\n",
              "    <tr>\n",
              "      <th>accuracy</th>\n",
              "      <td>0.568755</td>\n",
              "      <td>0.713424</td>\n",
              "      <td>0.700795</td>\n",
              "    </tr>\n",
              "    <tr>\n",
              "      <th>precision</th>\n",
              "      <td>0.568755</td>\n",
              "      <td>0.713424</td>\n",
              "      <td>0.700795</td>\n",
              "    </tr>\n",
              "    <tr>\n",
              "      <th>recall</th>\n",
              "      <td>0.568755</td>\n",
              "      <td>0.713424</td>\n",
              "      <td>0.700795</td>\n",
              "    </tr>\n",
              "  </tbody>\n",
              "</table>\n",
              "</div>"
            ],
            "text/plain": [
              "               NULL RFRegressor RF_Classifior\n",
              "accuracy   0.568755    0.713424      0.700795\n",
              "precision  0.568755    0.713424      0.700795\n",
              "recall     0.568755    0.713424      0.700795"
            ]
          },
          "metadata": {
            "tags": []
          },
          "execution_count": 26
        }
      ]
    },
    {
      "cell_type": "markdown",
      "metadata": {
        "id": "z2e9rmFwRJn6",
        "colab_type": "text"
      },
      "source": [
        "# 4. Naive Bayes Model"
      ]
    },
    {
      "cell_type": "code",
      "metadata": {
        "id": "KBZ-r8aGRIML",
        "colab_type": "code",
        "colab": {}
      },
      "source": [
        "# Fitting Naive Bayes to the Training set\n",
        "from sklearn.naive_bayes import GaussianNB\n",
        "classifier = GaussianNB()\n",
        "classifier.fit(X_train, y_train)\n",
        "\n",
        "# Predicting the Test set results\n",
        "y_pred = classifier.predict(X_test)"
      ],
      "execution_count": 0,
      "outputs": []
    },
    {
      "cell_type": "code",
      "metadata": {
        "id": "3uFAHRwGRSmM",
        "colab_type": "code",
        "colab": {}
      },
      "source": [
        "update_metric('Naive Bayes', y_pred, y_test)"
      ],
      "execution_count": 0,
      "outputs": []
    },
    {
      "cell_type": "markdown",
      "metadata": {
        "id": "wGDAdSt4R9yk",
        "colab_type": "text"
      },
      "source": [
        "# 5. Linear classification"
      ]
    },
    {
      "cell_type": "code",
      "metadata": {
        "id": "Un3EgNBwS82M",
        "colab_type": "code",
        "outputId": "b0576ef7-5b0f-4faa-fb3a-64ebe8b4c53d",
        "colab": {
          "base_uri": "https://localhost:8080/",
          "height": 107
        }
      },
      "source": [
        "# Fitting Logistic Regression to the Training set\n",
        "from sklearn.linear_model import LogisticRegression\n",
        "classifier = LogisticRegression(random_state = 0)\n",
        "classifier.fit(X_train, y_train)\n",
        "\n",
        "# Predicting a new result\n",
        "y_pred = np.round(classifier.predict(X_test))"
      ],
      "execution_count": 29,
      "outputs": [
        {
          "output_type": "stream",
          "text": [
            "/usr/local/lib/python3.6/dist-packages/sklearn/linear_model/logistic.py:432: FutureWarning: Default solver will be changed to 'lbfgs' in 0.22. Specify a solver to silence this warning.\n",
            "  FutureWarning)\n",
            "/usr/local/lib/python3.6/dist-packages/sklearn/linear_model/logistic.py:469: FutureWarning: Default multi_class will be changed to 'auto' in 0.22. Specify the multi_class option to silence this warning.\n",
            "  \"this warning.\", FutureWarning)\n"
          ],
          "name": "stderr"
        }
      ]
    },
    {
      "cell_type": "code",
      "metadata": {
        "id": "mK_3ipi8SFgw",
        "colab_type": "code",
        "colab": {}
      },
      "source": [
        "update_metric('Linear', y_pred, y_test)\n"
      ],
      "execution_count": 0,
      "outputs": []
    },
    {
      "cell_type": "markdown",
      "metadata": {
        "id": "ihNzZ2cRHAUy",
        "colab_type": "text"
      },
      "source": [
        "#6.  XGBoost model"
      ]
    },
    {
      "cell_type": "code",
      "metadata": {
        "id": "nh_C60rOG_SN",
        "colab_type": "code",
        "colab": {}
      },
      "source": [
        "# Fitting XGBoost to the Training set\n",
        "from xgboost import XGBClassifier\n",
        "classifier = XGBClassifier()\n",
        "classifier.fit(X_train, y_train)\n",
        "\n",
        "# Predicting the Test set results\n",
        "y_pred = classifier.predict(X_test)"
      ],
      "execution_count": 0,
      "outputs": []
    },
    {
      "cell_type": "code",
      "metadata": {
        "id": "_pVTx68FHHh5",
        "colab_type": "code",
        "colab": {
          "base_uri": "https://localhost:8080/",
          "height": 197
        },
        "outputId": "d15c12e8-0196-4164-e76c-341025be4f14"
      },
      "source": [
        "CM = confusion_matrix(y_pred=y_pred, y_true=y_test)\n",
        "CMatric(CM)"
      ],
      "execution_count": 32,
      "outputs": [
        {
          "output_type": "execute_result",
          "data": {
            "text/html": [
              "<div>\n",
              "<style scoped>\n",
              "    .dataframe tbody tr th:only-of-type {\n",
              "        vertical-align: middle;\n",
              "    }\n",
              "\n",
              "    .dataframe tbody tr th {\n",
              "        vertical-align: top;\n",
              "    }\n",
              "\n",
              "    .dataframe thead th {\n",
              "        text-align: right;\n",
              "    }\n",
              "</style>\n",
              "<table border=\"1\" class=\"dataframe\">\n",
              "  <thead>\n",
              "    <tr style=\"text-align: right;\">\n",
              "      <th>PREDICTION</th>\n",
              "      <th>GRADE 1</th>\n",
              "      <th>GRADE 2</th>\n",
              "      <th>GRADE 3</th>\n",
              "      <th>Total</th>\n",
              "    </tr>\n",
              "    <tr>\n",
              "      <th>TRUE</th>\n",
              "      <th></th>\n",
              "      <th></th>\n",
              "      <th></th>\n",
              "      <th></th>\n",
              "    </tr>\n",
              "  </thead>\n",
              "  <tbody>\n",
              "    <tr>\n",
              "      <th>GRADE 1</th>\n",
              "      <td>2931</td>\n",
              "      <td>5304</td>\n",
              "      <td>79</td>\n",
              "      <td>8314</td>\n",
              "    </tr>\n",
              "    <tr>\n",
              "      <th>GRADE 2</th>\n",
              "      <td>1721</td>\n",
              "      <td>43095</td>\n",
              "      <td>4590</td>\n",
              "      <td>49406</td>\n",
              "    </tr>\n",
              "    <tr>\n",
              "      <th>GRADE 3</th>\n",
              "      <td>128</td>\n",
              "      <td>16213</td>\n",
              "      <td>12806</td>\n",
              "      <td>29147</td>\n",
              "    </tr>\n",
              "    <tr>\n",
              "      <th>Total</th>\n",
              "      <td>4780</td>\n",
              "      <td>64612</td>\n",
              "      <td>17475</td>\n",
              "      <td>86867</td>\n",
              "    </tr>\n",
              "  </tbody>\n",
              "</table>\n",
              "</div>"
            ],
            "text/plain": [
              "PREDICTION  GRADE 1  GRADE 2  GRADE 3  Total\n",
              "TRUE                                        \n",
              "GRADE 1        2931     5304       79   8314\n",
              "GRADE 2        1721    43095     4590  49406\n",
              "GRADE 3         128    16213    12806  29147\n",
              "Total          4780    64612    17475  86867"
            ]
          },
          "metadata": {
            "tags": []
          },
          "execution_count": 32
        }
      ]
    },
    {
      "cell_type": "code",
      "metadata": {
        "id": "MY9JyTuOHJYZ",
        "colab_type": "code",
        "colab": {}
      },
      "source": [
        "update_metric('XG Boost', y_pred, y_test)"
      ],
      "execution_count": 0,
      "outputs": []
    },
    {
      "cell_type": "code",
      "metadata": {
        "id": "WK9kM-AcTqxS",
        "colab_type": "code",
        "outputId": "fe199871-2cbd-404e-e08d-f44a1082d768",
        "colab": {
          "base_uri": "https://localhost:8080/",
          "height": 137
        }
      },
      "source": [
        "metrics*100"
      ],
      "execution_count": 44,
      "outputs": [
        {
          "output_type": "execute_result",
          "data": {
            "text/html": [
              "<div>\n",
              "<style scoped>\n",
              "    .dataframe tbody tr th:only-of-type {\n",
              "        vertical-align: middle;\n",
              "    }\n",
              "\n",
              "    .dataframe tbody tr th {\n",
              "        vertical-align: top;\n",
              "    }\n",
              "\n",
              "    .dataframe thead th {\n",
              "        text-align: right;\n",
              "    }\n",
              "</style>\n",
              "<table border=\"1\" class=\"dataframe\">\n",
              "  <thead>\n",
              "    <tr style=\"text-align: right;\">\n",
              "      <th></th>\n",
              "      <th>NULL</th>\n",
              "      <th>RFRegressor</th>\n",
              "      <th>RF_Classifior</th>\n",
              "      <th>Naive Bayes</th>\n",
              "      <th>Linear</th>\n",
              "      <th>XG Boost</th>\n",
              "      <th>RFRegressor_hyper</th>\n",
              "    </tr>\n",
              "  </thead>\n",
              "  <tbody>\n",
              "    <tr>\n",
              "      <th>accuracy</th>\n",
              "      <td>56.8755</td>\n",
              "      <td>71.3424</td>\n",
              "      <td>70.0795</td>\n",
              "      <td>40.3145</td>\n",
              "      <td>59.0604</td>\n",
              "      <td>67.7265</td>\n",
              "      <td>69.2956</td>\n",
              "    </tr>\n",
              "    <tr>\n",
              "      <th>precision</th>\n",
              "      <td>56.8755</td>\n",
              "      <td>71.3424</td>\n",
              "      <td>70.0795</td>\n",
              "      <td>40.3145</td>\n",
              "      <td>59.0604</td>\n",
              "      <td>67.7265</td>\n",
              "      <td>69.2956</td>\n",
              "    </tr>\n",
              "    <tr>\n",
              "      <th>recall</th>\n",
              "      <td>56.8755</td>\n",
              "      <td>71.3424</td>\n",
              "      <td>70.0795</td>\n",
              "      <td>40.3145</td>\n",
              "      <td>59.0604</td>\n",
              "      <td>67.7265</td>\n",
              "      <td>69.2956</td>\n",
              "    </tr>\n",
              "  </tbody>\n",
              "</table>\n",
              "</div>"
            ],
            "text/plain": [
              "              NULL RFRegressor  ... XG Boost RFRegressor_hyper\n",
              "accuracy   56.8755     71.3424  ...  67.7265           69.2956\n",
              "precision  56.8755     71.3424  ...  67.7265           69.2956\n",
              "recall     56.8755     71.3424  ...  67.7265           69.2956\n",
              "\n",
              "[3 rows x 7 columns]"
            ]
          },
          "metadata": {
            "tags": []
          },
          "execution_count": 44
        }
      ]
    },
    {
      "cell_type": "code",
      "metadata": {
        "id": "t876Bifijzrm",
        "colab_type": "code",
        "outputId": "11c7d3d9-88ef-4c80-9722-5b2ad527b947",
        "colab": {
          "base_uri": "https://localhost:8080/",
          "height": 322
        }
      },
      "source": [
        "fig, ax = plt.subplots(figsize=(8,5))\n",
        "metrics.plot(kind='barh', ax=ax)\n",
        "ax.grid();"
      ],
      "execution_count": 35,
      "outputs": [
        {
          "output_type": "display_data",
          "data": {
            "image/png": "[encoded data removed]",
            "text/plain": [
              "<Figure size 576x360 with 1 Axes>"
            ]
          },
          "metadata": {
            "tags": []
          }
        }
      ]
    },
    {
      "cell_type": "code",
      "metadata": {
        "id": "QBsiiKyKKZ80",
        "colab_type": "code",
        "colab": {}
      },
      "source": [
        "from sklearn.model_selection import GridSearchCV\n",
        "\n",
        "param_grid = [{'bootstrap':[True], 'criterion':['mse'], 'max_depth':[50],\n",
        "                      'max_features':[25,27,30], 'max_leaf_nodes':[None],\n",
        "                      'min_impurity_decrease':[0.0], 'min_impurity_split':[None],\n",
        "                      'min_samples_leaf':[1,2], 'min_samples_split':[2],\n",
        "                      'min_weight_fraction_leaf':[0.0], 'n_estimators':[10,15],\n",
        "                      'n_jobs':[None], 'oob_score':[False], 'random_state':[2], 'verbose':[0],\n",
        "                      'warm_start':[False]}]\n",
        "\n",
        "grid_search_forest = GridSearchCV(regressor, param_grid, cv=10, scoring='explained_variance')\n",
        "grid_search_forest.fit(X_train, y_train)"
      ],
      "execution_count": 0,
      "outputs": []
    },
    {
      "cell_type": "code",
      "metadata": {
        "id": "gRb5x4M3kbJn",
        "colab_type": "code",
        "colab": {}
      },
      "source": [
        "cvres = grid_search_forest.cv_results_\n",
        "for mean_score, params in zip(cvres[\"mean_test_score\"], cvres[\"params\"]):\n",
        "    print(np.sqrt(-mean_score), params)"
      ],
      "execution_count": 0,
      "outputs": []
    },
    {
      "cell_type": "code",
      "metadata": {
        "id": "TQerm1NTk1Yu",
        "colab_type": "code",
        "colab": {
          "base_uri": "https://localhost:8080/",
          "height": 141
        },
        "outputId": "e6e3da55-8310-47d4-ac93-0be9233bfe3e"
      },
      "source": [
        "grid_search_forest.best_estimator_"
      ],
      "execution_count": 41,
      "outputs": [
        {
          "output_type": "execute_result",
          "data": {
            "text/plain": [
              "RandomForestRegressor(bootstrap=True, criterion='mse', max_depth=50,\n",
              "                      max_features=5, max_leaf_nodes=None,\n",
              "                      min_impurity_decrease=0.0, min_impurity_split=None,\n",
              "                      min_samples_leaf=1, min_samples_split=2,\n",
              "                      min_weight_fraction_leaf=0.0, n_estimators=10,\n",
              "                      n_jobs=None, oob_score=False, random_state=2, verbose=0,\n",
              "                      warm_start=False)"
            ]
          },
          "metadata": {
            "tags": []
          },
          "execution_count": 41
        }
      ]
    },
    {
      "cell_type": "code",
      "metadata": {
        "id": "eePAkPsKk9CE",
        "colab_type": "code",
        "colab": {}
      },
      "source": [
        "# Fitting Random Forest Regression to the dataset\n",
        "from sklearn.ensemble import RandomForestRegressor\n",
        "regressor = RandomForestRegressor(bootstrap=True, criterion='mse', max_depth=50,\n",
        "                      max_features=30, max_leaf_nodes=None,\n",
        "                      min_impurity_decrease=0.0, min_impurity_split=None,\n",
        "                      min_samples_leaf=1, min_samples_split=2,\n",
        "                      min_weight_fraction_leaf=0.0, n_estimators=10,\n",
        "                      n_jobs=None, oob_score=False, random_state=2, verbose=0,\n",
        "                      warm_start=False)\n",
        "regressor.fit(X_train, y_train)\n",
        "\n",
        "# Predicting a new result\n",
        "y_pred = np.round(regressor.predict(X_test))"
      ],
      "execution_count": 0,
      "outputs": []
    },
    {
      "cell_type": "code",
      "metadata": {
        "id": "XIawg65JlEBR",
        "colab_type": "code",
        "colab": {}
      },
      "source": [
        "update_metric('RFRegressor_hyper', y_pred, y_test)"
      ],
      "execution_count": 0,
      "outputs": []
    },
    {
      "cell_type": "code",
      "metadata": {
        "id": "W5yIkyHIlaqA",
        "colab_type": "code",
        "colab": {
          "base_uri": "https://localhost:8080/",
          "height": 137
        },
        "outputId": "dea04160-7a86-413d-e723-5a37a59d3e83"
      },
      "source": [
        "metrics*100"
      ],
      "execution_count": 74,
      "outputs": [
        {
          "output_type": "execute_result",
          "data": {
            "text/html": [
              "<div>\n",
              "<style scoped>\n",
              "    .dataframe tbody tr th:only-of-type {\n",
              "        vertical-align: middle;\n",
              "    }\n",
              "\n",
              "    .dataframe tbody tr th {\n",
              "        vertical-align: top;\n",
              "    }\n",
              "\n",
              "    .dataframe thead th {\n",
              "        text-align: right;\n",
              "    }\n",
              "</style>\n",
              "<table border=\"1\" class=\"dataframe\">\n",
              "  <thead>\n",
              "    <tr style=\"text-align: right;\">\n",
              "      <th></th>\n",
              "      <th>NULL</th>\n",
              "      <th>RFRegressor</th>\n",
              "      <th>RF_Classifior</th>\n",
              "      <th>Naive Bayes</th>\n",
              "      <th>Linear</th>\n",
              "      <th>XG Boost</th>\n",
              "      <th>RFRegressor_hyper</th>\n",
              "    </tr>\n",
              "  </thead>\n",
              "  <tbody>\n",
              "    <tr>\n",
              "      <th>accuracy</th>\n",
              "      <td>56.8755</td>\n",
              "      <td>71.3424</td>\n",
              "      <td>70.0795</td>\n",
              "      <td>40.3145</td>\n",
              "      <td>59.0604</td>\n",
              "      <td>67.7265</td>\n",
              "      <td>71.4345</td>\n",
              "    </tr>\n",
              "    <tr>\n",
              "      <th>precision</th>\n",
              "      <td>56.8755</td>\n",
              "      <td>71.3424</td>\n",
              "      <td>70.0795</td>\n",
              "      <td>40.3145</td>\n",
              "      <td>59.0604</td>\n",
              "      <td>67.7265</td>\n",
              "      <td>71.4345</td>\n",
              "    </tr>\n",
              "    <tr>\n",
              "      <th>recall</th>\n",
              "      <td>56.8755</td>\n",
              "      <td>71.3424</td>\n",
              "      <td>70.0795</td>\n",
              "      <td>40.3145</td>\n",
              "      <td>59.0604</td>\n",
              "      <td>67.7265</td>\n",
              "      <td>71.4345</td>\n",
              "    </tr>\n",
              "  </tbody>\n",
              "</table>\n",
              "</div>"
            ],
            "text/plain": [
              "              NULL RFRegressor  ... XG Boost RFRegressor_hyper\n",
              "accuracy   56.8755     71.3424  ...  67.7265           71.4345\n",
              "precision  56.8755     71.3424  ...  67.7265           71.4345\n",
              "recall     56.8755     71.3424  ...  67.7265           71.4345\n",
              "\n",
              "[3 rows x 7 columns]"
            ]
          },
          "metadata": {
            "tags": []
          },
          "execution_count": 74
        }
      ]
    }
  ]
}